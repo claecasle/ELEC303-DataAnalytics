{
 "cells": [
  {
   "cell_type": "markdown",
   "id": "d31b4313-1228-4d9c-9806-976c5abf3fa6",
   "metadata": {},
   "source": [
    "<h1> Activity 2 - UNITED KINGDOM ROAD ACCIDENT RECORDS REPORT</h1>\n",
    "<hr>\n",
    "<h2> Data Analyst : Jomel Tomeo </h3>\n",
    "<hr>\n",
    "<h3> Initialization of Core Libraries</h3>"
   ]
  },
  {
   "cell_type": "code",
   "execution_count": 1,
   "id": "a3609705-a0dc-4b4e-8ca0-aacdf24a9651",
   "metadata": {},
   "outputs": [],
   "source": [
    "import numpy as np\n",
    "import pandas as pd\n",
    "import matplotlib.pyplot as plt\n",
    "from scipy.stats import f_oneway\n",
    "import warnings\n",
    "warnings.filterwarnings('ignore')"
   ]
  },
  {
   "cell_type": "markdown",
   "id": "ed39ff7e-5057-458d-b413-a74266b34d36",
   "metadata": {},
   "source": [
    "<h3> Loading Dataset(s) into DataFrames </h3>\n",
    "<h4> Requirements: </h4>\n",
    "<ul>\n",
    "    <li> DataFrame Identifier </li>\n",
    "    <li> Dataset File Location </li>\n",
    "</ul>"
   ]
  },
  {
   "cell_type": "code",
   "execution_count": 2,
   "id": "8798be90-ecbb-4d69-ad7e-14d45a76308a",
   "metadata": {},
   "outputs": [
    {
     "data": {
      "text/html": [
       "<div>\n",
       "<style scoped>\n",
       "    .dataframe tbody tr th:only-of-type {\n",
       "        vertical-align: middle;\n",
       "    }\n",
       "\n",
       "    .dataframe tbody tr th {\n",
       "        vertical-align: top;\n",
       "    }\n",
       "\n",
       "    .dataframe thead th {\n",
       "        text-align: right;\n",
       "    }\n",
       "</style>\n",
       "<table border=\"1\" class=\"dataframe\">\n",
       "  <thead>\n",
       "    <tr style=\"text-align: right;\">\n",
       "      <th></th>\n",
       "      <th>Index</th>\n",
       "      <th>Accident_Severity</th>\n",
       "      <th>Accident Date</th>\n",
       "      <th>Latitude</th>\n",
       "      <th>Light_Conditions</th>\n",
       "      <th>District Area</th>\n",
       "      <th>Longitude</th>\n",
       "      <th>Number_of_Casualties</th>\n",
       "      <th>Number_of_Vehicles</th>\n",
       "      <th>Road_Surface_Conditions</th>\n",
       "      <th>Road_Type</th>\n",
       "      <th>Urban_or_Rural_Area</th>\n",
       "      <th>Weather_Conditions</th>\n",
       "      <th>Vehicle_Type</th>\n",
       "    </tr>\n",
       "  </thead>\n",
       "  <tbody>\n",
       "    <tr>\n",
       "      <th>0</th>\n",
       "      <td>200701BS64157</td>\n",
       "      <td>Serious</td>\n",
       "      <td>5/6/2019</td>\n",
       "      <td>51.506187</td>\n",
       "      <td>Darkness - lights lit</td>\n",
       "      <td>Kensington and Chelsea</td>\n",
       "      <td>-0.209082</td>\n",
       "      <td>1</td>\n",
       "      <td>2</td>\n",
       "      <td>Dry</td>\n",
       "      <td>Single carriageway</td>\n",
       "      <td>Urban</td>\n",
       "      <td>Fine no high winds</td>\n",
       "      <td>Car</td>\n",
       "    </tr>\n",
       "    <tr>\n",
       "      <th>1</th>\n",
       "      <td>200701BS65737</td>\n",
       "      <td>Serious</td>\n",
       "      <td>2/7/2019</td>\n",
       "      <td>51.495029</td>\n",
       "      <td>Daylight</td>\n",
       "      <td>Kensington and Chelsea</td>\n",
       "      <td>-0.173647</td>\n",
       "      <td>1</td>\n",
       "      <td>2</td>\n",
       "      <td>Wet or damp</td>\n",
       "      <td>Single carriageway</td>\n",
       "      <td>Urban</td>\n",
       "      <td>Raining no high winds</td>\n",
       "      <td>Car</td>\n",
       "    </tr>\n",
       "    <tr>\n",
       "      <th>2</th>\n",
       "      <td>200701BS66127</td>\n",
       "      <td>Serious</td>\n",
       "      <td>26-08-2019</td>\n",
       "      <td>51.517715</td>\n",
       "      <td>Darkness - lighting unknown</td>\n",
       "      <td>Kensington and Chelsea</td>\n",
       "      <td>-0.210215</td>\n",
       "      <td>1</td>\n",
       "      <td>3</td>\n",
       "      <td>Dry</td>\n",
       "      <td>NaN</td>\n",
       "      <td>Urban</td>\n",
       "      <td>NaN</td>\n",
       "      <td>Taxi/Private hire car</td>\n",
       "    </tr>\n",
       "    <tr>\n",
       "      <th>3</th>\n",
       "      <td>200701BS66128</td>\n",
       "      <td>Serious</td>\n",
       "      <td>16-08-2019</td>\n",
       "      <td>51.495478</td>\n",
       "      <td>Daylight</td>\n",
       "      <td>Kensington and Chelsea</td>\n",
       "      <td>-0.202731</td>\n",
       "      <td>1</td>\n",
       "      <td>4</td>\n",
       "      <td>Dry</td>\n",
       "      <td>Single carriageway</td>\n",
       "      <td>Urban</td>\n",
       "      <td>Fine no high winds</td>\n",
       "      <td>Bus or coach (17 or more pass seats)</td>\n",
       "    </tr>\n",
       "    <tr>\n",
       "      <th>4</th>\n",
       "      <td>200701BS66837</td>\n",
       "      <td>Slight</td>\n",
       "      <td>3/9/2019</td>\n",
       "      <td>51.488576</td>\n",
       "      <td>Darkness - lights lit</td>\n",
       "      <td>Kensington and Chelsea</td>\n",
       "      <td>-0.192487</td>\n",
       "      <td>1</td>\n",
       "      <td>2</td>\n",
       "      <td>Dry</td>\n",
       "      <td>NaN</td>\n",
       "      <td>Urban</td>\n",
       "      <td>NaN</td>\n",
       "      <td>Other vehicle</td>\n",
       "    </tr>\n",
       "    <tr>\n",
       "      <th>...</th>\n",
       "      <td>...</td>\n",
       "      <td>...</td>\n",
       "      <td>...</td>\n",
       "      <td>...</td>\n",
       "      <td>...</td>\n",
       "      <td>...</td>\n",
       "      <td>...</td>\n",
       "      <td>...</td>\n",
       "      <td>...</td>\n",
       "      <td>...</td>\n",
       "      <td>...</td>\n",
       "      <td>...</td>\n",
       "      <td>...</td>\n",
       "      <td>...</td>\n",
       "    </tr>\n",
       "    <tr>\n",
       "      <th>660678</th>\n",
       "      <td>201091NJ14695</td>\n",
       "      <td>Fatal</td>\n",
       "      <td>21-10-2022</td>\n",
       "      <td>58.445475</td>\n",
       "      <td>Darkness - lights lit</td>\n",
       "      <td>Highland</td>\n",
       "      <td>-3.065535</td>\n",
       "      <td>1</td>\n",
       "      <td>1</td>\n",
       "      <td>Wet or damp</td>\n",
       "      <td>Single carriageway</td>\n",
       "      <td>Rural</td>\n",
       "      <td>Fine no high winds</td>\n",
       "      <td>Car</td>\n",
       "    </tr>\n",
       "    <tr>\n",
       "      <th>660679</th>\n",
       "      <td>201091NJ14695</td>\n",
       "      <td>Fatal</td>\n",
       "      <td>21-10-2022</td>\n",
       "      <td>58.445475</td>\n",
       "      <td>Darkness - lights lit</td>\n",
       "      <td>Highland</td>\n",
       "      <td>-3.065535</td>\n",
       "      <td>1</td>\n",
       "      <td>1</td>\n",
       "      <td>Wet or damp</td>\n",
       "      <td>Single carriageway</td>\n",
       "      <td>Rural</td>\n",
       "      <td>Fine no high winds</td>\n",
       "      <td>Car</td>\n",
       "    </tr>\n",
       "    <tr>\n",
       "      <th>660680</th>\n",
       "      <td>201091NJ14695</td>\n",
       "      <td>Fatal</td>\n",
       "      <td>21-10-2022</td>\n",
       "      <td>58.445475</td>\n",
       "      <td>Darkness - lights lit</td>\n",
       "      <td>Highland</td>\n",
       "      <td>-3.065535</td>\n",
       "      <td>1</td>\n",
       "      <td>1</td>\n",
       "      <td>Wet or damp</td>\n",
       "      <td>Single carriageway</td>\n",
       "      <td>Rural</td>\n",
       "      <td>Fine no high winds</td>\n",
       "      <td>Car</td>\n",
       "    </tr>\n",
       "    <tr>\n",
       "      <th>660681</th>\n",
       "      <td>201091NJ14695</td>\n",
       "      <td>Fatal</td>\n",
       "      <td>21-10-2022</td>\n",
       "      <td>58.445475</td>\n",
       "      <td>Darkness - lights lit</td>\n",
       "      <td>Highland</td>\n",
       "      <td>-3.065535</td>\n",
       "      <td>1</td>\n",
       "      <td>1</td>\n",
       "      <td>Wet or damp</td>\n",
       "      <td>Single carriageway</td>\n",
       "      <td>Rural</td>\n",
       "      <td>Fine no high winds</td>\n",
       "      <td>Car</td>\n",
       "    </tr>\n",
       "    <tr>\n",
       "      <th>660682</th>\n",
       "      <td>201091NJ14695</td>\n",
       "      <td>Fatal</td>\n",
       "      <td>21-10-2022</td>\n",
       "      <td>58.445475</td>\n",
       "      <td>Darkness - lights lit</td>\n",
       "      <td>Highland</td>\n",
       "      <td>-3.065535</td>\n",
       "      <td>1</td>\n",
       "      <td>1</td>\n",
       "      <td>Wet or damp</td>\n",
       "      <td>Single carriageway</td>\n",
       "      <td>Rural</td>\n",
       "      <td>Fine no high winds</td>\n",
       "      <td>Car</td>\n",
       "    </tr>\n",
       "  </tbody>\n",
       "</table>\n",
       "<p>660683 rows × 14 columns</p>\n",
       "</div>"
      ],
      "text/plain": [
       "                Index Accident_Severity Accident Date   Latitude  \\\n",
       "0       200701BS64157           Serious      5/6/2019  51.506187   \n",
       "1       200701BS65737           Serious      2/7/2019  51.495029   \n",
       "2       200701BS66127           Serious    26-08-2019  51.517715   \n",
       "3       200701BS66128           Serious    16-08-2019  51.495478   \n",
       "4       200701BS66837            Slight      3/9/2019  51.488576   \n",
       "...               ...               ...           ...        ...   \n",
       "660678  201091NJ14695             Fatal    21-10-2022  58.445475   \n",
       "660679  201091NJ14695             Fatal    21-10-2022  58.445475   \n",
       "660680  201091NJ14695             Fatal    21-10-2022  58.445475   \n",
       "660681  201091NJ14695             Fatal    21-10-2022  58.445475   \n",
       "660682  201091NJ14695             Fatal    21-10-2022  58.445475   \n",
       "\n",
       "                   Light_Conditions           District Area  Longitude  \\\n",
       "0             Darkness - lights lit  Kensington and Chelsea  -0.209082   \n",
       "1                          Daylight  Kensington and Chelsea  -0.173647   \n",
       "2       Darkness - lighting unknown  Kensington and Chelsea  -0.210215   \n",
       "3                          Daylight  Kensington and Chelsea  -0.202731   \n",
       "4             Darkness - lights lit  Kensington and Chelsea  -0.192487   \n",
       "...                             ...                     ...        ...   \n",
       "660678        Darkness - lights lit                Highland  -3.065535   \n",
       "660679        Darkness - lights lit                Highland  -3.065535   \n",
       "660680        Darkness - lights lit                Highland  -3.065535   \n",
       "660681        Darkness - lights lit                Highland  -3.065535   \n",
       "660682        Darkness - lights lit                Highland  -3.065535   \n",
       "\n",
       "        Number_of_Casualties  Number_of_Vehicles Road_Surface_Conditions  \\\n",
       "0                          1                   2                     Dry   \n",
       "1                          1                   2             Wet or damp   \n",
       "2                          1                   3                     Dry   \n",
       "3                          1                   4                     Dry   \n",
       "4                          1                   2                     Dry   \n",
       "...                      ...                 ...                     ...   \n",
       "660678                     1                   1             Wet or damp   \n",
       "660679                     1                   1             Wet or damp   \n",
       "660680                     1                   1             Wet or damp   \n",
       "660681                     1                   1             Wet or damp   \n",
       "660682                     1                   1             Wet or damp   \n",
       "\n",
       "                 Road_Type Urban_or_Rural_Area     Weather_Conditions  \\\n",
       "0       Single carriageway               Urban     Fine no high winds   \n",
       "1       Single carriageway               Urban  Raining no high winds   \n",
       "2                      NaN               Urban                    NaN   \n",
       "3       Single carriageway               Urban     Fine no high winds   \n",
       "4                      NaN               Urban                    NaN   \n",
       "...                    ...                 ...                    ...   \n",
       "660678  Single carriageway               Rural     Fine no high winds   \n",
       "660679  Single carriageway               Rural     Fine no high winds   \n",
       "660680  Single carriageway               Rural     Fine no high winds   \n",
       "660681  Single carriageway               Rural     Fine no high winds   \n",
       "660682  Single carriageway               Rural     Fine no high winds   \n",
       "\n",
       "                                Vehicle_Type  \n",
       "0                                        Car  \n",
       "1                                        Car  \n",
       "2                      Taxi/Private hire car  \n",
       "3       Bus or coach (17 or more pass seats)  \n",
       "4                              Other vehicle  \n",
       "...                                      ...  \n",
       "660678                                   Car  \n",
       "660679                                   Car  \n",
       "660680                                   Car  \n",
       "660681                                   Car  \n",
       "660682                                   Car  \n",
       "\n",
       "[660683 rows x 14 columns]"
      ]
     },
     "execution_count": 2,
     "metadata": {},
     "output_type": "execute_result"
    }
   ],
   "source": [
    "accident = pd.read_csv(\"datasets\\\\uk_road_accident.csv\")\n",
    "accident"
   ]
  },
  {
   "cell_type": "markdown",
   "id": "597f3823-1a8d-409d-92fb-900e154b1e2b",
   "metadata": {},
   "source": [
    "<h3> Descriptive Analytics </h3>\n",
    "<hr>"
   ]
  },
  {
   "cell_type": "code",
   "execution_count": 3,
   "id": "96c53496-3fec-478d-a916-0a777ab4343d",
   "metadata": {},
   "outputs": [
    {
     "data": {
      "text/html": [
       "<div>\n",
       "<style scoped>\n",
       "    .dataframe tbody tr th:only-of-type {\n",
       "        vertical-align: middle;\n",
       "    }\n",
       "\n",
       "    .dataframe tbody tr th {\n",
       "        vertical-align: top;\n",
       "    }\n",
       "\n",
       "    .dataframe thead th {\n",
       "        text-align: right;\n",
       "    }\n",
       "</style>\n",
       "<table border=\"1\" class=\"dataframe\">\n",
       "  <thead>\n",
       "    <tr style=\"text-align: right;\">\n",
       "      <th></th>\n",
       "      <th>Latitude</th>\n",
       "      <th>Longitude</th>\n",
       "      <th>Number_of_Casualties</th>\n",
       "      <th>Number_of_Vehicles</th>\n",
       "    </tr>\n",
       "  </thead>\n",
       "  <tbody>\n",
       "    <tr>\n",
       "      <th>count</th>\n",
       "      <td>660658.000000</td>\n",
       "      <td>660657.000000</td>\n",
       "      <td>660683.000000</td>\n",
       "      <td>660683.000000</td>\n",
       "    </tr>\n",
       "    <tr>\n",
       "      <th>mean</th>\n",
       "      <td>52.553845</td>\n",
       "      <td>-1.431256</td>\n",
       "      <td>1.356970</td>\n",
       "      <td>1.831181</td>\n",
       "    </tr>\n",
       "    <tr>\n",
       "      <th>std</th>\n",
       "      <td>1.406684</td>\n",
       "      <td>1.383305</td>\n",
       "      <td>0.824734</td>\n",
       "      <td>0.715285</td>\n",
       "    </tr>\n",
       "    <tr>\n",
       "      <th>min</th>\n",
       "      <td>49.914430</td>\n",
       "      <td>-7.516225</td>\n",
       "      <td>1.000000</td>\n",
       "      <td>1.000000</td>\n",
       "    </tr>\n",
       "    <tr>\n",
       "      <th>25%</th>\n",
       "      <td>51.490690</td>\n",
       "      <td>-2.332472</td>\n",
       "      <td>1.000000</td>\n",
       "      <td>1.000000</td>\n",
       "    </tr>\n",
       "    <tr>\n",
       "      <th>50%</th>\n",
       "      <td>52.315646</td>\n",
       "      <td>-1.411916</td>\n",
       "      <td>1.000000</td>\n",
       "      <td>2.000000</td>\n",
       "    </tr>\n",
       "    <tr>\n",
       "      <th>75%</th>\n",
       "      <td>53.453473</td>\n",
       "      <td>-0.232870</td>\n",
       "      <td>1.000000</td>\n",
       "      <td>2.000000</td>\n",
       "    </tr>\n",
       "    <tr>\n",
       "      <th>max</th>\n",
       "      <td>60.757544</td>\n",
       "      <td>1.762010</td>\n",
       "      <td>68.000000</td>\n",
       "      <td>32.000000</td>\n",
       "    </tr>\n",
       "  </tbody>\n",
       "</table>\n",
       "</div>"
      ],
      "text/plain": [
       "            Latitude      Longitude  Number_of_Casualties  Number_of_Vehicles\n",
       "count  660658.000000  660657.000000         660683.000000       660683.000000\n",
       "mean       52.553845      -1.431256              1.356970            1.831181\n",
       "std         1.406684       1.383305              0.824734            0.715285\n",
       "min        49.914430      -7.516225              1.000000            1.000000\n",
       "25%        51.490690      -2.332472              1.000000            1.000000\n",
       "50%        52.315646      -1.411916              1.000000            2.000000\n",
       "75%        53.453473      -0.232870              1.000000            2.000000\n",
       "max        60.757544       1.762010             68.000000           32.000000"
      ]
     },
     "execution_count": 3,
     "metadata": {},
     "output_type": "execute_result"
    }
   ],
   "source": [
    "accident.describe()"
   ]
  },
  {
   "cell_type": "code",
   "execution_count": 4,
   "id": "cc83d2c0-371c-4a9a-8520-149547d366a0",
   "metadata": {},
   "outputs": [
    {
     "data": {
      "text/html": [
       "<div>\n",
       "<style scoped>\n",
       "    .dataframe tbody tr th:only-of-type {\n",
       "        vertical-align: middle;\n",
       "    }\n",
       "\n",
       "    .dataframe tbody tr th {\n",
       "        vertical-align: top;\n",
       "    }\n",
       "\n",
       "    .dataframe thead th {\n",
       "        text-align: right;\n",
       "    }\n",
       "</style>\n",
       "<table border=\"1\" class=\"dataframe\">\n",
       "  <thead>\n",
       "    <tr style=\"text-align: right;\">\n",
       "      <th></th>\n",
       "      <th>count</th>\n",
       "      <th>mean</th>\n",
       "      <th>std</th>\n",
       "      <th>min</th>\n",
       "      <th>25%</th>\n",
       "      <th>50%</th>\n",
       "      <th>75%</th>\n",
       "      <th>max</th>\n",
       "    </tr>\n",
       "  </thead>\n",
       "  <tbody>\n",
       "    <tr>\n",
       "      <th>Latitude</th>\n",
       "      <td>660658.0</td>\n",
       "      <td>52.553845</td>\n",
       "      <td>1.406684</td>\n",
       "      <td>49.914430</td>\n",
       "      <td>51.490690</td>\n",
       "      <td>52.315646</td>\n",
       "      <td>53.453473</td>\n",
       "      <td>60.757544</td>\n",
       "    </tr>\n",
       "    <tr>\n",
       "      <th>Longitude</th>\n",
       "      <td>660657.0</td>\n",
       "      <td>-1.431256</td>\n",
       "      <td>1.383305</td>\n",
       "      <td>-7.516225</td>\n",
       "      <td>-2.332472</td>\n",
       "      <td>-1.411916</td>\n",
       "      <td>-0.232870</td>\n",
       "      <td>1.762010</td>\n",
       "    </tr>\n",
       "    <tr>\n",
       "      <th>Number_of_Casualties</th>\n",
       "      <td>660683.0</td>\n",
       "      <td>1.356970</td>\n",
       "      <td>0.824734</td>\n",
       "      <td>1.000000</td>\n",
       "      <td>1.000000</td>\n",
       "      <td>1.000000</td>\n",
       "      <td>1.000000</td>\n",
       "      <td>68.000000</td>\n",
       "    </tr>\n",
       "    <tr>\n",
       "      <th>Number_of_Vehicles</th>\n",
       "      <td>660683.0</td>\n",
       "      <td>1.831181</td>\n",
       "      <td>0.715285</td>\n",
       "      <td>1.000000</td>\n",
       "      <td>1.000000</td>\n",
       "      <td>2.000000</td>\n",
       "      <td>2.000000</td>\n",
       "      <td>32.000000</td>\n",
       "    </tr>\n",
       "  </tbody>\n",
       "</table>\n",
       "</div>"
      ],
      "text/plain": [
       "                         count       mean       std        min        25%  \\\n",
       "Latitude              660658.0  52.553845  1.406684  49.914430  51.490690   \n",
       "Longitude             660657.0  -1.431256  1.383305  -7.516225  -2.332472   \n",
       "Number_of_Casualties  660683.0   1.356970  0.824734   1.000000   1.000000   \n",
       "Number_of_Vehicles    660683.0   1.831181  0.715285   1.000000   1.000000   \n",
       "\n",
       "                            50%        75%        max  \n",
       "Latitude              52.315646  53.453473  60.757544  \n",
       "Longitude             -1.411916  -0.232870   1.762010  \n",
       "Number_of_Casualties   1.000000   1.000000  68.000000  \n",
       "Number_of_Vehicles     2.000000   2.000000  32.000000  "
      ]
     },
     "execution_count": 4,
     "metadata": {},
     "output_type": "execute_result"
    }
   ],
   "source": [
    "accident.describe().T"
   ]
  },
  {
   "cell_type": "markdown",
   "id": "72db6ead-e840-4598-96ed-7107af33bf04",
   "metadata": {},
   "source": [
    "<h3> Checking Null Values </h3>\n",
    "<hr>"
   ]
  },
  {
   "cell_type": "code",
   "execution_count": 5,
   "id": "3596a3ad-e965-4bbc-b1a8-5b9a6d3c46b5",
   "metadata": {},
   "outputs": [
    {
     "data": {
      "text/plain": [
       "Index                          0\n",
       "Accident_Severity              0\n",
       "Accident Date                  0\n",
       "Latitude                      25\n",
       "Light_Conditions               0\n",
       "District Area                  0\n",
       "Longitude                     26\n",
       "Number_of_Casualties           0\n",
       "Number_of_Vehicles             0\n",
       "Road_Surface_Conditions      726\n",
       "Road_Type                   4519\n",
       "Urban_or_Rural_Area           15\n",
       "Weather_Conditions         14127\n",
       "Vehicle_Type                   0\n",
       "dtype: int64"
      ]
     },
     "execution_count": 5,
     "metadata": {},
     "output_type": "execute_result"
    }
   ],
   "source": [
    "accident.isnull().sum()"
   ]
  },
  {
   "cell_type": "markdown",
   "id": "5e6b320a-e7f6-4bc1-b084-106749aeac14",
   "metadata": {},
   "source": [
    "<h3>  Filling Up Null Values </h3>\n",
    "<hr>"
   ]
  },
  {
   "cell_type": "code",
   "execution_count": 6,
   "id": "d1c88fff-27ee-48a3-800c-ae2aeb4d21b3",
   "metadata": {},
   "outputs": [],
   "source": [
    "accident['Latitude'] = accident['Latitude'].fillna(accident['Latitude'].mean())\n",
    "accident['Longitude'] = accident['Longitude'].fillna(accident['Longitude'].mean())\n",
    "accident['Road_Surface_Conditions'] = accident['Road_Surface_Conditions'].fillna(\"unaccounted\")\n",
    "accident['Road_Type'] = accident['Road_Type'].fillna(\"unaccounted\")\n",
    "accident['Urban_or_Rural_Area'] = accident['Urban_or_Rural_Area'].fillna(accident['Urban_or_Rural_Area'].mode()[0])\n",
    "accident['Weather_Conditions'] = accident['Weather_Conditions'].fillna(\"unaccounted\")"
   ]
  },
  {
   "cell_type": "code",
   "execution_count": 7,
   "id": "eac8c18b-8d81-446e-9c55-187e344e988d",
   "metadata": {},
   "outputs": [
    {
     "data": {
      "text/plain": [
       "Index                      0\n",
       "Accident_Severity          0\n",
       "Accident Date              0\n",
       "Latitude                   0\n",
       "Light_Conditions           0\n",
       "District Area              0\n",
       "Longitude                  0\n",
       "Number_of_Casualties       0\n",
       "Number_of_Vehicles         0\n",
       "Road_Surface_Conditions    0\n",
       "Road_Type                  0\n",
       "Urban_or_Rural_Area        0\n",
       "Weather_Conditions         0\n",
       "Vehicle_Type               0\n",
       "dtype: int64"
      ]
     },
     "execution_count": 7,
     "metadata": {},
     "output_type": "execute_result"
    }
   ],
   "source": [
    "accident.isnull().sum()"
   ]
  },
  {
   "cell_type": "markdown",
   "id": "5be6d7ac-5c9a-4aef-8d7f-b1c2bc41d124",
   "metadata": {},
   "source": [
    "<h4> Categorical Data </h4>\n",
    "<hr>"
   ]
  },
  {
   "cell_type": "code",
   "execution_count": 8,
   "id": "fcaf8419-f0ac-4d1e-878b-d48e97d1234d",
   "metadata": {},
   "outputs": [],
   "source": [
    "accident['Accident_Severity'] = accident['Accident_Severity'].astype('category')\n",
    "accident['Light_Conditions'] = accident['Light_Conditions'].astype('category')\n",
    "accident['Road_Surface_Conditions'] = accident['Road_Surface_Conditions'].astype('category')\n",
    "accident['Road_Type'] = accident['Road_Type'].astype('category')\n",
    "accident['Urban_or_Rural_Area'] = accident['Urban_or_Rural_Area'].astype('category')\n",
    "accident['Weather_Conditions'] = accident['Weather_Conditions'].astype('category')\n",
    "accident['Vehicle_Type'] = accident['Vehicle_Type'].astype('category')"
   ]
  },
  {
   "cell_type": "code",
   "execution_count": 9,
   "id": "b3b4a2b7-9ccc-4eb4-afbb-3a15976a08fc",
   "metadata": {},
   "outputs": [
    {
     "name": "stdout",
     "output_type": "stream",
     "text": [
      "<class 'pandas.core.frame.DataFrame'>\n",
      "RangeIndex: 660683 entries, 0 to 660682\n",
      "Data columns (total 14 columns):\n",
      " #   Column                   Non-Null Count   Dtype   \n",
      "---  ------                   --------------   -----   \n",
      " 0   Index                    660683 non-null  object  \n",
      " 1   Accident_Severity        660683 non-null  category\n",
      " 2   Accident Date            660683 non-null  object  \n",
      " 3   Latitude                 660683 non-null  float64 \n",
      " 4   Light_Conditions         660683 non-null  category\n",
      " 5   District Area            660683 non-null  object  \n",
      " 6   Longitude                660683 non-null  float64 \n",
      " 7   Number_of_Casualties     660683 non-null  int64   \n",
      " 8   Number_of_Vehicles       660683 non-null  int64   \n",
      " 9   Road_Surface_Conditions  660683 non-null  category\n",
      " 10  Road_Type                660683 non-null  category\n",
      " 11  Urban_or_Rural_Area      660683 non-null  category\n",
      " 12  Weather_Conditions       660683 non-null  category\n",
      " 13  Vehicle_Type             660683 non-null  category\n",
      "dtypes: category(7), float64(2), int64(2), object(3)\n",
      "memory usage: 39.7+ MB\n"
     ]
    }
   ],
   "source": [
    "accident.info()"
   ]
  },
  {
   "cell_type": "markdown",
   "id": "d92cff68-7764-47ae-9f97-a7e99fe15a2b",
   "metadata": {},
   "source": [
    "<h3> Clearning any Inconsistencies with the Dataset</h3>\n",
    "<hr>"
   ]
  },
  {
   "cell_type": "code",
   "execution_count": 10,
   "id": "b9ac4acc-5602-4eed-abce-95d30c930fc8",
   "metadata": {},
   "outputs": [],
   "source": [
    "accident['Accident Date'] = accident['Accident Date'].str.strip()\n",
    "accident['Accident Date'] = accident['Accident Date'].astype('str')\n",
    "accident['Accident Date'] = accident['Accident Date'].str.replace('/', '-')"
   ]
  },
  {
   "cell_type": "code",
   "execution_count": 11,
   "id": "3e1a7c6c-24cf-415d-a666-616b9ff5f6a9",
   "metadata": {},
   "outputs": [],
   "source": [
    "accident['Accident Date'] = pd.to_datetime(accident['Accident Date'], dayfirst = True, errors='coerce')"
   ]
  },
  {
   "cell_type": "markdown",
   "id": "8023cafc-8c98-4af2-b331-281911aa82b8",
   "metadata": {},
   "source": [
    "<h3> Extracting Date Information Using Pandas DateTime </h3>\n",
    "<hr>"
   ]
  },
  {
   "cell_type": "code",
   "execution_count": 12,
   "id": "d390d1fe-7456-46ae-a33f-7bd9a401464f",
   "metadata": {},
   "outputs": [],
   "source": [
    "accident['Year'] = accident['Accident Date'].dt.year\n",
    "accident['Month'] = accident['Accident Date'].dt.month\n",
    "accident['Day'] = accident['Accident Date'].dt.day\n",
    "accident['DayOfWeek'] = accident['Accident Date'].dt.dayofweek # Monday = 0, Sunday = 6 "
   ]
  },
  {
   "cell_type": "code",
   "execution_count": 13,
   "id": "57322ac7-a6a3-404f-b970-4c8c19c92f80",
   "metadata": {},
   "outputs": [
    {
     "data": {
      "text/plain": [
       "Index                      0\n",
       "Accident_Severity          0\n",
       "Accident Date              0\n",
       "Latitude                   0\n",
       "Light_Conditions           0\n",
       "District Area              0\n",
       "Longitude                  0\n",
       "Number_of_Casualties       0\n",
       "Number_of_Vehicles         0\n",
       "Road_Surface_Conditions    0\n",
       "Road_Type                  0\n",
       "Urban_or_Rural_Area        0\n",
       "Weather_Conditions         0\n",
       "Vehicle_Type               0\n",
       "Year                       0\n",
       "Month                      0\n",
       "Day                        0\n",
       "DayOfWeek                  0\n",
       "dtype: int64"
      ]
     },
     "execution_count": 13,
     "metadata": {},
     "output_type": "execute_result"
    }
   ],
   "source": [
    "accident.isnull().sum()"
   ]
  },
  {
   "cell_type": "markdown",
   "id": "c384f311-e249-423a-a93f-1d852ed14445",
   "metadata": {},
   "source": [
    "<h1>DATA EXPLORATION</h1>\n",
    "<hr>\n",
    "<h2> Conducting data exploration by structuring and analyzing twenty-five (25) key questions</h2>\n",
    "<hr>\n",
    "<h4> Below are the twenty-five (25) questions that establish the structure of the analytical process</h4>\n",
    "<ol>\n",
    "    <li><p> To optimize traffic police patrols, on which day of the week do most accidents occur? </p></li>\n",
    "    <li><p> Has there been a year-over-year trend in accident rates? Are our safety measures working? </p></li>\n",
    "    <li><p> What percentage of accidents causes at least one serious or fatal injury? </p></li>\n",
    "    <li><p> On average, how many people get hurt in each accident, and does this number change when more vehicles are involved? </p></li>\n",
    "    <li><p> Is there a specific combination of light and weather conditions that is particularly dangerous? </p></li>\n",
    "    <li><p> In each region, do more accidents happen in urban areas or rural areas? </p></li>\n",
    "    <li><p> During rainy weather, which type of vehicle is most often involved in accidents? </p></li>\n",
    "    <li><p> For our annual review, for each year, what was the district with the highest number of accidents? Has the worst-performing district changed? </p></li>\n",
    "    <li><p> When are motorcycle accidents most likely to happen during the week? </p></li>\n",
    "    <li><p> Which month of the year has the highest frequency of accidents? </p></li>\n",
    "    <li><p> Are there geographic clusters of severe accidents, and is accident severity related to latitude and longitude? </p></li>\n",
    "    <li><p> Do accidents on weekends correlate with higher severity than accidents on weekdays? </p></li>\n",
    "    <li><p> Which road type has the strongest correlation with higher casualty counts? </p></li>\n",
    "    <li><p> Do accidents involving cars, motorcycles, and HGVs differ in the number of other vehicles involved? </p></li>\n",
    "    <li><p> Do multiple vehicles accidents result in more casualties compared to single-vehicle accidents? </p></li>\n",
    "    <li><p> How do accident rates fluctuate month-by-month? Is there a predictable seasonal pattern? </p></li>\n",
    "    <li><p>Is the problem getting better or worse in rural areas compared to urban ones?</p></li>\n",
    "    <li><p> Do locations with more accidents also tend to have more casualties on average?\n",
    " </p></li>\n",
    "    <li><p>For accidents involving a bus, what is the relationship with the number of other vehicles? </p></li>\n",
    "    <li><p> What are the most common weather conditions during accidents on roundabouts? </p></li>\n",
    "    <li><p> Which light conditions are most often associated with fatal accidents? </p></li>\n",
    "    <li><p> Which districts have the highest ratio of serious accidents to slight accidents? </p></li>\n",
    "    <li><p> What are the top 10 districts with the poorest reporting of road surface conditions? </p></li>\n",
    "    <li><p>How many vehicles are usually involved in accidents on dual carriageways? </p></li>\n",
    "    <li><p>What is the distribution of the number of casualties in accidents that occur in darkness? </p></li>\n",
    "</ol>\n",
    "<hr>"
   ]
  },
  {
   "cell_type": "markdown",
   "id": "820d75b1-4135-40b3-8c8f-8a5601fdde86",
   "metadata": {},
   "source": [
    "<h2> Question 1 </h2>\n",
    "<h3> To optimize traffic police patrols, on which day of the week do most accidents occur? </h3>"
   ]
  },
  {
   "cell_type": "code",
   "execution_count": 14,
   "id": "3b826d43-8aad-40bc-94a0-d2a8c9f7aaa8",
   "metadata": {
    "scrolled": true
   },
   "outputs": [
    {
     "name": "stdout",
     "output_type": "stream",
     "text": [
      "Mon     72662\n",
      "Tue     94537\n",
      "Wed     99541\n",
      "Thu     99502\n",
      "Fri     97994\n",
      "Sat    107162\n",
      "Sun     89285\n",
      "Name: count, dtype: int64\n"
     ]
    }
   ],
   "source": [
    "# Count accidents per day of week (0=Mon, 6=Sun)\n",
    "counts = accident['DayOfWeek'].value_counts().reindex(np.arange(7), fill_value=0)\n",
    "\n",
    "# Label the days\n",
    "counts.index = ['Mon', 'Tue', 'Wed', 'Thu', 'Fri', 'Sat', 'Sun']\n",
    "\n",
    "print(counts)"
   ]
  },
  {
   "cell_type": "markdown",
   "id": "c08a0bc5-9299-4b26-941a-96b538bb3e65",
   "metadata": {},
   "source": [
    "<span style=\"color:red;\"><b>INSIGHTS:</b></span>  Based on the analysis of accident frequency by day of the week, <b> Saturday </b> is the day with the highest volume of accidents, totaling <b> 107,162 incidents </b>. Therefore, to optimize traffic police patrols for maximum visibility and rapid response, the strategic focus should be prioritized on Saturdays.\n",
    "<hr>"
   ]
  },
  {
   "cell_type": "markdown",
   "id": "d4e41ac9-4057-4ee8-8137-063ab53137dc",
   "metadata": {},
   "source": [
    "<h2> Question 2 </h2>\n",
    "<h3> Has there been a year-over-year trend in accident rates? Are our safety measures working? </h3>"
   ]
  },
  {
   "cell_type": "code",
   "execution_count": 15,
   "id": "cee9c21e-349b-4259-a65e-472765049204",
   "metadata": {},
   "outputs": [
    {
     "name": "stdout",
     "output_type": "stream",
     "text": [
      "Year\n",
      "2019    182115\n",
      "2020    170591\n",
      "2021    163554\n",
      "2022    144423\n",
      "Name: count, dtype: int64\n"
     ]
    }
   ],
   "source": [
    "accidents_by_year = accident['Year'].value_counts().sort_index()\n",
    "\n",
    "print(accidents_by_year)"
   ]
  },
  {
   "cell_type": "markdown",
   "id": "79d0ce16-d808-4732-8b83-1f15fcde4274",
   "metadata": {},
   "source": [
    "<span style=\"color:red;\"><b>INSIGHTS:</b></span> Yes, our safety measures <b> are working.</b> Every year, the number of accidents has <b> gone down.</b> We started with <b> 182,115 accidents </b> in  <b> 2019 </b> and ended with <b> 144,423 </b> in <b> 2022</b>. This steady drop shows our efforts to improve safety are making a <b> real difference </b>. \n",
    "<hr>"
   ]
  },
  {
   "cell_type": "markdown",
   "id": "5e5dd790-cc68-4a0a-a755-2350ef3f17bf",
   "metadata": {},
   "source": [
    "<h2> Question 3 </h2>\n",
    "<h3> What percentage of accidents causes at least one serious or fatal injury? </h3>"
   ]
  },
  {
   "cell_type": "code",
   "execution_count": 16,
   "id": "5adbd4e2-de17-42d0-b5c5-d594aec2204e",
   "metadata": {},
   "outputs": [
    {
     "name": "stdout",
     "output_type": "stream",
     "text": [
      "14.68% of accidents involved a fatal or serious injury.\n"
     ]
    }
   ],
   "source": [
    "percentage = ((accident['Accident_Severity'] == 'Fatal') | (accident['Accident_Severity'] == 'Serious')).mean() * 100\n",
    "\n",
    "print(f\"{percentage:.2f}% of accidents involved a fatal or serious injury.\")"
   ]
  },
  {
   "cell_type": "markdown",
   "id": "1639a6ab-bdc3-42c6-bf2e-43fec6e6397f",
   "metadata": {},
   "source": [
    "<span style=\"color:red;\"><b>INSIGHTS:</b></span>  About <b> 14.68% </b> of accidents cause a serious or fatal injury. This means that for every <b> 100 </b> accidents, almost <b> 15 </b> have severe outcomes. Most accidents are minor, but this number shows that <b> dangerous crashes </b>still happen often. This is important to know so we can focus on making <b> roads safer. </b>\n",
    "<hr>"
   ]
  },
  {
   "cell_type": "markdown",
   "id": "906071d3-7565-4042-9e3f-cdf9ff7601a8",
   "metadata": {},
   "source": [
    "<h2> Question 4 </h2>\n",
    "<h3> On average, how many people get hurt in each accident, and does this number change when more vehicles are involved? </h3>"
   ]
  },
  {
   "cell_type": "code",
   "execution_count": 17,
   "id": "0c98dddf-871a-4348-8ad7-fb0f92cdb89d",
   "metadata": {},
   "outputs": [
    {
     "data": {
      "text/plain": [
       "(np.float64(1.36),\n",
       " Number_of_Vehicles\n",
       " 1      1.17\n",
       " 2      1.37\n",
       " 3      1.71\n",
       " 4      2.00\n",
       " 5      2.32\n",
       " 6      2.61\n",
       " 7      3.06\n",
       " 8      3.40\n",
       " 9      3.35\n",
       " 10     3.63\n",
       " 11     4.00\n",
       " 12     2.29\n",
       " 13     7.83\n",
       " 14     5.44\n",
       " 15     5.00\n",
       " 16     6.00\n",
       " 19    13.00\n",
       " 28    16.00\n",
       " 32     5.00\n",
       " Name: Number_of_Casualties, dtype: float64)"
      ]
     },
     "execution_count": 17,
     "metadata": {},
     "output_type": "execute_result"
    }
   ],
   "source": [
    "overall_avg = round(accident['Number_of_Casualties'].mean(), 2)\n",
    "avg_by_vehicles = accident.groupby('Number_of_Vehicles')['Number_of_Casualties'].mean().round(2)\n",
    "\n",
    "overall_avg, avg_by_vehicles"
   ]
  },
  {
   "cell_type": "markdown",
   "id": "d3093b08-dc95-4e04-9649-d2ceb0d6d69c",
   "metadata": {},
   "source": [
    "<span style=\"color:red;\"><b>INSIGHTS:</b></span>  On average, <b> 1.36 </b> people get hurt in each accident. This number <b> does change </b> when more vehicles are involved. For example, accidents with just one vehicle have about <b> 1.17 </b> casualties, while those with five vehicles have about <b> 2.32. </b>More vehicles usually lead to more people hurt. This makes sense because more cars means more people are at risk in a single crash.\n",
    "\n",
    "\n",
    "<hr>"
   ]
  },
  {
   "cell_type": "markdown",
   "id": "47b84c25-0e55-4e83-a31a-93cbf8e5b6fe",
   "metadata": {},
   "source": [
    "<h2> Question 5 </h2>\n",
    "<h3> Is there a specific combination of light and weather conditions that is particularly dangerous? </h3>"
   ]
  },
  {
   "cell_type": "code",
   "execution_count": 18,
   "id": "9cfbd950-da9b-49a8-8b14-fe958c86b79c",
   "metadata": {},
   "outputs": [
    {
     "data": {
      "text/plain": [
       "Light_Conditions        Weather_Conditions   \n",
       "Daylight                Fine no high winds       398654\n",
       "Darkness - lights lit   Fine no high winds        92045\n",
       "Daylight                Raining no high winds     49738\n",
       "Darkness - no lighting  Fine no high winds        24859\n",
       "Darkness - lights lit   Raining no high winds     22664\n",
       "Daylight                Other                     10096\n",
       "                        unaccounted               10042\n",
       "Darkness - no lighting  Raining no high winds      6205\n",
       "Daylight                Fine + high winds          5790\n",
       "                        Raining + high winds       4938\n",
       "dtype: int64"
      ]
     },
     "execution_count": 18,
     "metadata": {},
     "output_type": "execute_result"
    }
   ],
   "source": [
    "# Count accidents for each combination of light and weather conditions\n",
    "danger = (accident.groupby(['Light_Conditions', 'Weather_Conditions']).size().sort_values(ascending=False).head(10))\n",
    "danger"
   ]
  },
  {
   "cell_type": "markdown",
   "id": "1fa690c9-3b63-4615-b19d-f7328f9be45a",
   "metadata": {},
   "source": [
    "<span style=\"color:red;\"><b>INSIGHTS:</b></span>  Yes, there is a particularly dangerous combination. The <b>most accidents</b>, almost <b>400,000</b>, happened in <b>daylight</b> during <b>fine weather with no high winds</b>. The second most frequent, about <b>92,000</b> accidents, also happened in <b>fine weather</b> but during <b>darkness when lights were on</b>. This shows that <b>many accidents happen in good weather</b>, both in the daytime and at night. It means drivers may feel <b>too confident</b> when the weather is clear, which leads to more accidents.\n",
    "<hr>"
   ]
  },
  {
   "cell_type": "markdown",
   "id": "3fee69df-121d-4f21-8747-6dd62fc427ee",
   "metadata": {},
   "source": [
    "<h2> Question 6 </h2>\n",
    "<h3> In each region, do more accidents happen in urban areas or rural areas?</h3>"
   ]
  },
  {
   "cell_type": "code",
   "execution_count": 19,
   "id": "f42cdd84-f749-4247-ba6a-c484f064a4af",
   "metadata": {},
   "outputs": [
    {
     "data": {
      "text/plain": [
       "District Area  Urban_or_Rural_Area\n",
       "Birmingham     Rural                    134\n",
       "               Unallocated                0\n",
       "               Urban                  13357\n",
       "Bradford       Rural                    796\n",
       "               Unallocated                0\n",
       "               Urban                   5416\n",
       "Leeds          Rural                   1774\n",
       "               Unallocated                0\n",
       "               Urban                   7124\n",
       "Manchester     Rural                    143\n",
       "               Unallocated                0\n",
       "               Urban                   6577\n",
       "Sheffield      Rural                    462\n",
       "               Unallocated                0\n",
       "               Urban                   5248\n",
       "dtype: int64"
      ]
     },
     "execution_count": 19,
     "metadata": {},
     "output_type": "execute_result"
    }
   ],
   "source": [
    "# Top 5 districts by number of accidents\n",
    "top_5_districts = accident['District Area'].value_counts().head(5).index\n",
    "\n",
    "# Urban vs Rural counts for top 5 districts\n",
    "accident[accident['District Area'].isin(top_5_districts)].groupby(['District Area', 'Urban_or_Rural_Area']).size()\n"
   ]
  },
  {
   "cell_type": "markdown",
   "id": "f288afc6-63b3-4686-8fdc-9927088efa6a",
   "metadata": {},
   "source": [
    "<span style=\"color:red;\"><b>INSIGHTS:</b></span>  In every one of the top five districts, <b>many more</b> accidents happen in <b>urban</b> areas than in <b>rural</b> areas. For instance, in <b>Birmingham</b>, there were <b>13,357</b> urban accidents but only <b>134</b> rural ones. This  <b> difference</b> is the same for all the other top districts like <b>Leeds, Manchester, and Sheffield</b>, where <b>urban</b> accident numbers are <b>always much higher</b>. Therefore, for these areas, the answer is that <b>more accidents happen in urban places</b>.\n",
    "<hr>"
   ]
  },
  {
   "cell_type": "markdown",
   "id": "0bd72950-f412-41a4-bb3e-5ef3303c87d0",
   "metadata": {},
   "source": [
    "<h2> Question 7 </h2>\n",
    "<h3> During rainy weather, which type of vehicle is most often involved in accidents? </h3>"
   ]
  },
  {
   "cell_type": "code",
   "execution_count": 20,
   "id": "31c8c718-172d-42d2-b663-16d25ceba7a3",
   "metadata": {},
   "outputs": [
    {
     "data": {
      "text/plain": [
       "Vehicle_Type\n",
       "Car                                     67134\n",
       "Van / Goods 3.5 tonnes mgw or under      4711\n",
       "Bus or coach (17 or more pass seats)     3571\n",
       "Motorcycle over 500cc                    3488\n",
       "Goods 7.5 tonnes mgw and over            2387\n",
       "Name: count, dtype: int64"
      ]
     },
     "execution_count": 20,
     "metadata": {},
     "output_type": "execute_result"
    }
   ],
   "source": [
    "# Top 5 vehicle types in rain accidents\n",
    "top_5_vehicles = accident.loc[accident['Weather_Conditions'].str.lower().str.contains('rain'), 'Vehicle_Type'].value_counts().head(5)\n",
    "top_5_vehicles"
   ]
  },
  {
   "cell_type": "markdown",
   "id": "51018cd1-c8ea-4573-9f64-77c23cccb39e",
   "metadata": {},
   "source": [
    "<span style=\"color:red;\"><b>INSIGHTS:</b></span>  When the weather is <b>rainy</b>, <b>cars</b> are the vehicle type <b>most often</b> involved in accidents. Cars were involved in <b>67,134</b> accidents that occurred in the rain. The next highest vehicle type was <b>vans</b>, which were involved in <b>4,711</b> accidents. The most likely reason for this is that there are <b>far more cars</b> driving on the roads than any other kind of vehicle.\n",
    "<hr>"
   ]
  },
  {
   "cell_type": "markdown",
   "id": "8eadf3ec-809c-4026-850b-a86d5dc9a1bc",
   "metadata": {},
   "source": [
    "<h2> Question 8 </h2>\n",
    "<h3> For our annual review, for each year, what was the district with the highest number of accidents? Has the worst-performing district changed? </h3>"
   ]
  },
  {
   "cell_type": "code",
   "execution_count": 21,
   "id": "d5bbd64a-6916-4f27-bec3-72f9792534ee",
   "metadata": {},
   "outputs": [
    {
     "data": {
      "text/html": [
       "<div>\n",
       "<style scoped>\n",
       "    .dataframe tbody tr th:only-of-type {\n",
       "        vertical-align: middle;\n",
       "    }\n",
       "\n",
       "    .dataframe tbody tr th {\n",
       "        vertical-align: top;\n",
       "    }\n",
       "\n",
       "    .dataframe thead th {\n",
       "        text-align: right;\n",
       "    }\n",
       "</style>\n",
       "<table border=\"1\" class=\"dataframe\">\n",
       "  <thead>\n",
       "    <tr style=\"text-align: right;\">\n",
       "      <th></th>\n",
       "      <th>Year</th>\n",
       "      <th>District Area</th>\n",
       "      <th>Accidents</th>\n",
       "    </tr>\n",
       "  </thead>\n",
       "  <tbody>\n",
       "    <tr>\n",
       "      <th>24</th>\n",
       "      <td>2019</td>\n",
       "      <td>Birmingham</td>\n",
       "      <td>3820</td>\n",
       "    </tr>\n",
       "    <tr>\n",
       "      <th>438</th>\n",
       "      <td>2020</td>\n",
       "      <td>Birmingham</td>\n",
       "      <td>3506</td>\n",
       "    </tr>\n",
       "    <tr>\n",
       "      <th>852</th>\n",
       "      <td>2021</td>\n",
       "      <td>Birmingham</td>\n",
       "      <td>3289</td>\n",
       "    </tr>\n",
       "    <tr>\n",
       "      <th>1268</th>\n",
       "      <td>2022</td>\n",
       "      <td>Birmingham</td>\n",
       "      <td>2876</td>\n",
       "    </tr>\n",
       "  </tbody>\n",
       "</table>\n",
       "</div>"
      ],
      "text/plain": [
       "      Year District Area  Accidents\n",
       "24    2019    Birmingham       3820\n",
       "438   2020    Birmingham       3506\n",
       "852   2021    Birmingham       3289\n",
       "1268  2022    Birmingham       2876"
      ]
     },
     "execution_count": 21,
     "metadata": {},
     "output_type": "execute_result"
    }
   ],
   "source": [
    "# Count accidents per district per year\n",
    "counts = accident.groupby(['Year', 'District Area']).size().reset_index(name='Accidents')\n",
    "\n",
    "# Get the district with the most accidents each year\n",
    "worst_district_by_year = counts.loc[counts.groupby('Year')['Accidents'].idxmax()]\n",
    "\n",
    "worst_district_by_year\n"
   ]
  },
  {
   "cell_type": "markdown",
   "id": "60c5b57f-63e4-42b4-b923-c75f0e248670",
   "metadata": {},
   "source": [
    "<span style=\"color:red;\"><b>INSIGHTS:</b></span> <b>Birmingham</b> was the district with the <b>highest number of accidents</b> every year from <b>2019 to 2022</b>. The number of accidents in Birmingham <b>decreased each year</b>, from <b>3,820 in 2019</b> to <b>2,876 in 2022</b>. Even though the <b>total number went down</b> over time, Birmingham remained the <b>worst-performing district</b>. This means the district with the <b>most accidents did not change</b> during this period.\n",
    "<hr>"
   ]
  },
  {
   "cell_type": "markdown",
   "id": "22ca7f19-986b-44a9-ba9a-2dca858b6d30",
   "metadata": {},
   "source": [
    "<h2> Question 9 </h2>\n",
    "<h3> When are motorcycle accidents most likely to happen during the week? </h3>"
   ]
  },
  {
   "cell_type": "code",
   "execution_count": 22,
   "id": "7817898e-b18e-4ea4-a0d8-1dd22e81e01d",
   "metadata": {},
   "outputs": [
    {
     "data": {
      "text/plain": [
       "Mon    6122\n",
       "Tue    8102\n",
       "Wed    8404\n",
       "Thu    8597\n",
       "Fri    8245\n",
       "Sat    9131\n",
       "Sun    7576\n",
       "Name: count, dtype: int64"
      ]
     },
     "execution_count": 22,
     "metadata": {},
     "output_type": "execute_result"
    }
   ],
   "source": [
    "# Filter motorcycle accidents\n",
    "motorcycle_accidents = accident[accident['Vehicle_Type'].str.lower().str.contains('motorcycle')]\n",
    "\n",
    "# Count accidents by day of the week\n",
    "accidents_by_day = motorcycle_accidents['DayOfWeek'].value_counts().sort_index()\n",
    "\n",
    "# Label the days\n",
    "accidents_by_day.index = ['Mon', 'Tue', 'Wed', 'Thu', 'Fri', 'Sat', 'Sun']\n",
    "\n",
    "accidents_by_day\n"
   ]
  },
  {
   "cell_type": "markdown",
   "id": "ce56c78d-b63e-4721-8bb8-2278323e4ce8",
   "metadata": {},
   "source": [
    "<span style=\"color:red;\"><b>INSIGHTS:</b></span>  <b>Motorcycle accidents</b> are <b>most likely</b> to happen on a <b>Saturday</b>, with <b>9,131</b> incidents. The number of accidents is also <b>high throughout the week</b>, from Tuesday to Friday. <b>Sunday</b> has the <b>lowest</b> number of motorcycle accidents for the week. This may tell us that riding is <b>riskier on weekends and weekdays</b> compared to Sundays.\n",
    "<hr>"
   ]
  },
  {
   "cell_type": "markdown",
   "id": "d816e3f3-7299-49e5-b282-8897f6600020",
   "metadata": {},
   "source": [
    "<h2> Question 10 </h2>\n",
    "<h3> Which month of the year has the highest frequency of accidents? </h3>"
   ]
  },
  {
   "cell_type": "code",
   "execution_count": 23,
   "id": "b4a0bca4-868a-45d5-ace1-2602ab1f6bfc",
   "metadata": {},
   "outputs": [
    {
     "data": {
      "text/plain": [
       "Month\n",
       "1     52852\n",
       "2     49482\n",
       "3     54084\n",
       "4     51741\n",
       "5     56348\n",
       "6     56474\n",
       "7     57439\n",
       "8     53909\n",
       "9     56450\n",
       "10    59673\n",
       "11    60409\n",
       "12    51822\n",
       "Name: count, dtype: int64"
      ]
     },
     "execution_count": 23,
     "metadata": {},
     "output_type": "execute_result"
    }
   ],
   "source": [
    "accident['Month'] = accident['Accident Date'].dt.month\n",
    "\n",
    "# Count accidents by month\n",
    "accidents_by_month = accident['Month'].value_counts().sort_index()\n",
    "accidents_by_month"
   ]
  },
  {
   "cell_type": "markdown",
   "id": "eff7b50b-d2ed-4414-a7ec-bc6955bf4e75",
   "metadata": {},
   "source": [
    "<span style=\"color:red;\"><b>INSIGHTS:</b></span>  <b>November</b> has the <b>highest</b> number of accidents for the year, with <b>60,409</b> incidents. <b>October</b> is the next highest month with <b>59,673</b> accidents. The months with the <b>fewest</b> accidents are <b>February and April</b>. The number of accidents generally <b>increases</b> from the start of the year towards the end. The <b>peak in late autumn</b> might be because of <b>darker evenings and more rain</b>.\n",
    "<hr>"
   ]
  },
  {
   "cell_type": "markdown",
   "id": "3297d703-9ddd-4710-881d-9bd994b7f922",
   "metadata": {},
   "source": [
    "<h2> Question 11 </h2>\n",
    "<h3> Are there geographic clusters of severe accidents, and is accident severity related to latitude and longitude? </h3>"
   ]
  },
  {
   "cell_type": "code",
   "execution_count": 24,
   "id": "c6e63f92-8fbf-4b40-a7ca-8c8280c36ab1",
   "metadata": {},
   "outputs": [
    {
     "name": "stdout",
     "output_type": "stream",
     "text": [
      "Correlation Latitude vs. Casualties: 0.032\n",
      "Correlation Longitude vs. Casualties: -0.040\n"
     ]
    }
   ],
   "source": [
    "# Check if location is correlated with the number of people hurt.\n",
    "lat = accident['Latitude'].corr(accident['Number_of_Casualties'])\n",
    "lon = accident['Longitude'].corr(accident['Number_of_Casualties'])\n",
    "print(f\"Correlation Latitude vs. Casualties: {lat:.3f}\")\n",
    "print(f\"Correlation Longitude vs. Casualties: {lon:.3f}\")"
   ]
  },
  {
   "cell_type": "markdown",
   "id": "a5f0c88a-a8a1-49ae-a38c-05e9144d8cc1",
   "metadata": {},
   "source": [
    "<span style=\"color:red;\"><b>INSIGHTS:</b></span>  The <b>correlation values</b> between location and accident severity are <b>very weak</b>. <b>Latitude</b> has a small <b>positive correlation</b> of <b>0.032</b> with the number of casualties. <b>Longitude</b> has a small <b>negative correlation</b> of <b>-0.040</b>. This means there is <b>no strong relationship</b> between geographic coordinates and how severe an accident is.\n",
    "<hr>"
   ]
  },
  {
   "cell_type": "markdown",
   "id": "ad4c4b0f-cc56-4e61-b53e-e148ded480ab",
   "metadata": {},
   "source": [
    "<h2> Question 12 </h2>\n",
    "<h3> Do accidents on weekends correlate with higher severity than accidents on weekdays?  </h3>"
   ]
  },
  {
   "cell_type": "code",
   "execution_count": 25,
   "id": "4b88cbd2",
   "metadata": {},
   "outputs": [
    {
     "name": "stdout",
     "output_type": "stream",
     "text": [
      "Correlation between Weekend and Number of Casualties: 0.021\n"
     ]
    }
   ],
   "source": [
    "accident['Is_Weekend'] = (accident['DayOfWeek'] >= 5).astype(int) # Assuming Mon=0, Sun=6\n",
    "correlation = accident['Is_Weekend'].corr(accident['Number_of_Casualties'])\n",
    "print(f\"Correlation between Weekend and Number of Casualties: {correlation:.3f}\")"
   ]
  },
  {
   "cell_type": "markdown",
   "id": "cb2a0e40-9e8c-4c1b-bb5b-f6cb64ff6afa",
   "metadata": {},
   "source": [
    "<span style=\"color:red;\"><b>INSIGHTS:</b></span> <b>No</b>, accidents on <b>weekends</b> are <b>not more severe</b> than accidents on <b>weekdays</b>. It shows <b>almost no connection</b> between the day of the week and how many people get hurt. The number of <b>casualties</b> in an accident is <b>nearly the same</b> whether it happens on a weekday or a Saturday or Sunday.\n",
    "<hr>"
   ]
  },
  {
   "cell_type": "markdown",
   "id": "160f3b74-8591-421d-a262-ef2ba7789da0",
   "metadata": {},
   "source": [
    "<h2> Question 13 </h2>\n",
    "<h3> Which road type has the strongest correlation with higher casualty counts? </h3>"
   ]
  },
  {
   "cell_type": "code",
   "execution_count": 26,
   "id": "7b6d0626",
   "metadata": {},
   "outputs": [
    {
     "name": "stdout",
     "output_type": "stream",
     "text": [
      "Road_Type\n",
      "Dual carriageway      1.477298\n",
      "Slip road             1.423661\n",
      "Single carriageway    1.344578\n",
      "Name: Number_of_Casualties, dtype: float64\n"
     ]
    }
   ],
   "source": [
    "road_type_severity = accident.groupby('Road_Type')['Number_of_Casualties'].mean()\n",
    "print(road_type_severity.sort_values(ascending=False).head(3))"
   ]
  },
  {
   "cell_type": "markdown",
   "id": "4f1472d3-994e-4e0a-896c-243c11fc2a53",
   "metadata": {},
   "source": [
    "<span style=\"color:red;\"><b>INSIGHTS:</b></span> <b>Dual carriageways</b> have the <b>strongest link</b> to higher casualty counts, with an average of about <b>1.48 casualties</b> per accident. <b>Slip roads</b> are next with <b>1.42 casualties</b>, followed by <b>single carriageways</b> with <b>1.34</b>. This means accidents on <b>faster, multi-lane roads</b> like dual carriageways tend to result in <b>more people getting hurt</b>. The <b>road type</b> is related to the <b>severity</b> of the accidents that happen on it.\n",
    "<hr>"
   ]
  },
  {
   "cell_type": "markdown",
   "id": "b66c373e-f46c-4c2f-858b-750957ef531d",
   "metadata": {},
   "source": [
    "<h2> Question 14 </h2>\n",
    "<h3> Do accidents involving cars, motorcycles, and HGVs differ in the number of other vehicles involved? </h3>"
   ]
  },
  {
   "cell_type": "code",
   "execution_count": 27,
   "id": "c2453863",
   "metadata": {},
   "outputs": [
    {
     "data": {
      "text/plain": [
       "F_onewayResult(statistic=np.float64(1.4670124971711498), pvalue=np.float64(0.23061422663996944))"
      ]
     },
     "execution_count": 27,
     "metadata": {},
     "output_type": "execute_result"
    }
   ],
   "source": [
    "car = accident[accident['Vehicle_Type'] == 'Car']['Number_of_Vehicles']\n",
    "bike = accident[accident['Vehicle_Type'].str.contains('Motorcycle')]['Number_of_Vehicles']\n",
    "hgv = accident[accident['Vehicle_Type'].str.contains('Goods')]['Number_of_Vehicles']\n",
    "f_oneway(car, bike, hgv)"
   ]
  },
  {
   "cell_type": "markdown",
   "id": "e91eca01-e7ee-4d58-ba6c-b4c8e5c53543",
   "metadata": {},
   "source": [
    "<span style=\"color:red;\"><b>INSIGHTS:</b></span> <b>No</b>, there is <b>no significant difference</b> in the number of vehicles involved in accidents between <b>cars, motorcycles, and large trucks</b>. The high <b>p-value of 0.23</b> confirms that any small differences are <b>not meaningful</b> and are likely due to <b>random chance</b>. The <b>type of vehicle</b> does not affect how many other vehicles are in the accident.\n",
    "<hr>"
   ]
  },
  {
   "cell_type": "markdown",
   "id": "8ebc5b76-f429-4afc-a2f4-01610ccaeefc",
   "metadata": {},
   "source": [
    "<h2> Question 15 </h2>\n",
    "<h3> Do multiple vehicles accidents result in more casualties compared to single-vehicle accidents? </h3>"
   ]
  },
  {
   "cell_type": "code",
   "execution_count": 28,
   "id": "a0b8c99d",
   "metadata": {},
   "outputs": [
    {
     "data": {
      "text/plain": [
       "F_onewayResult(statistic=np.float64(15030.438521505124), pvalue=np.float64(0.0))"
      ]
     },
     "execution_count": 28,
     "metadata": {},
     "output_type": "execute_result"
    }
   ],
   "source": [
    "single = accident[accident['Number_of_Vehicles'] == 1]['Number_of_Casualties']\n",
    "multiple = accident[accident['Number_of_Vehicles'] > 1]['Number_of_Casualties']\n",
    "f_oneway(single, multiple)"
   ]
  },
  {
   "cell_type": "markdown",
   "id": "79adcd34-6a1e-4d1a-a8e2-8f7de0324143",
   "metadata": {},
   "source": [
    "<span style=\"color:red;\"><b>INSIGHTS:</b></span> <b>Yes</b>, accidents involving <b>multiple vehicles</b> result in <b>more casualties</b> compared to <b>single-vehicle</b> accidents. The statistical test shows a <b>p-value of 0.0</b>, which means this difference is <b>really important</b> and not due to chance. When <b>more than one vehicle</b> is involved in a collision, the <b>average number of people injured is higher</b>. This is likely because these accidents <b>involve more people</b> overall.\n",
    "\n",
    "\n",
    "<hr>"
   ]
  },
  {
   "cell_type": "markdown",
   "id": "7ed7c552-9c41-4def-a079-cab930e6e32c",
   "metadata": {},
   "source": [
    "<h2> Question 16 </h2>\n",
    "<h3> How do accident rates fluctuate month-by-month? Is there a predictable seasonal pattern? </h3>"
   ]
  },
  {
   "cell_type": "code",
   "execution_count": 29,
   "id": "c1ab3fc4",
   "metadata": {},
   "outputs": [
    {
     "data": {
      "image/png": "[encoded data removed]",
      "text/plain": [
       "<Figure size 640x480 with 1 Axes>"
      ]
     },
     "metadata": {},
     "output_type": "display_data"
    }
   ],
   "source": [
    "accidents_by_month = accident['Month'].value_counts().sort_index()\n",
    "\n",
    "plt.plot(accidents_by_month.index, accidents_by_month.values, marker='o')\n",
    "plt.title('Seasonality of Accidents (Monthly Trend)')\n",
    "plt.xlabel('Month')\n",
    "plt.ylabel('Number of Accidents')\n",
    "plt.xticks(range(1,13))\n",
    "plt.grid(True)\n",
    "plt.show()"
   ]
  },
  {
   "cell_type": "markdown",
   "id": "2ba4c800-bb6d-41bd-bb51-599b0c894f97",
   "metadata": {},
   "source": [
    "<span style=\"color:red;\"><b>INSIGHTS:</b></span>  <b>Yes</b>, accident rates show a seasonal pattern. They are <b>highest</b> in the winter, around <b>December</b> and <b> January</b>, and <b>lowest</b> in the summer. This is likely because <b>winter weather</b> makes roads <b>more dangerous</b>. The trend is <b>very predictable</b>, repeating every year.\n",
    "<hr>"
   ]
  },
  {
   "cell_type": "markdown",
   "id": "930f8d38-6c6c-415f-ba55-7d522dbda36d",
   "metadata": {},
   "source": [
    "<h2> Question 17 </h2>\n",
    "<h3> Is the problem getting better or worse in rural areas compared to urban ones? </h3>"
   ]
  },
  {
   "cell_type": "code",
   "execution_count": 30,
   "id": "ac1b0885",
   "metadata": {},
   "outputs": [
    {
     "data": {
      "image/png": "[encoded data removed]",
      "text/plain": [
       "<Figure size 640x480 with 1 Axes>"
      ]
     },
     "metadata": {},
     "output_type": "display_data"
    }
   ],
   "source": [
    "rural_trend = accident[accident['Urban_or_Rural_Area'] == 'Rural'].groupby('Year').size()\n",
    "urban_trend = accident[accident['Urban_or_Rural_Area'] == 'Urban'].groupby('Year').size()\n",
    "\n",
    "plt.plot(urban_trend.index, urban_trend.values, marker='o', label='Urban')\n",
    "plt.plot(rural_trend.index, rural_trend.values, marker='s', label='Rural')\n",
    "plt.title('Trend of Accidents: Urban vs. Rural')\n",
    "plt.xlabel('Year')\n",
    "plt.ylabel('Number of Accidents')\n",
    "plt.legend()\n",
    "plt.grid(True)\n",
    "plt.show()"
   ]
  },
  {
   "cell_type": "markdown",
   "id": "d1d459b5-6e0d-46be-90e3-3a7591d7dd89",
   "metadata": {},
   "source": [
    "<span style=\"color:red;\"><b>INSIGHTS:</b></span>  <b>Yes</b>, the problem is getting worse in rural areas. <b>Urban accidents </b> are going down, but <b>rural accidents </b> are going up. This means the <b>gap between rural and urban safety is growing</b>.\n",
    "<hr>"
   ]
  },
  {
   "cell_type": "markdown",
   "id": "44785b1d-8e72-4c8e-9079-3e65245e6f92",
   "metadata": {},
   "source": [
    "<h2> Question 18 </h2>\n",
    "<h3> Do locations with more accidents also tend to have more casualties on average? </h3>"
   ]
  },
  {
   "cell_type": "code",
   "execution_count": 31,
   "id": "c287a744",
   "metadata": {},
   "outputs": [
    {
     "data": {
      "image/png": "[encoded data removed]",
      "text/plain": [
       "<Figure size 640x480 with 1 Axes>"
      ]
     },
     "metadata": {},
     "output_type": "display_data"
    }
   ],
   "source": [
    "# Group by rounded lat and long\n",
    "cluster_stats = accident.groupby([accident['Latitude'].round(2), accident['Longitude'].round(2)])\n",
    "\n",
    "# Count and mean in one step\n",
    "counts = cluster_stats['Index'].count()\n",
    "casualties = cluster_stats['Number_of_Casualties'].mean()\n",
    "\n",
    "# Scatter plot\n",
    "plt.scatter(counts, casualties, alpha=0.5)\n",
    "plt.title('Accidents vs Average Casualties by Location')\n",
    "plt.xlabel('Accidents')\n",
    "plt.ylabel('Average Casualties')\n",
    "plt.show()\n"
   ]
  },
  {
   "cell_type": "markdown",
   "id": "37fdb3d0-0d99-4a19-8be0-e452b87b6e4c",
   "metadata": {},
   "source": [
    "<span style=\"color:red;\"><b>INSIGHTS:</b></span>  <b>No</b>. The number of accidents at a location does not affect how severe they are. A place with many crashes has the same average casualties as a place with few crashes.\n",
    "<hr>"
   ]
  },
  {
   "cell_type": "markdown",
   "id": "b7b4ebab-fc86-488d-a321-3dd4e12ecbd0",
   "metadata": {},
   "source": [
    "<h2> Question 19 </h2>\n",
    "<h3> For accidents involving a bus, what is the relationship with the number of other vehicles? </h3>"
   ]
  },
  {
   "cell_type": "code",
   "execution_count": 32,
   "id": "dd34db24",
   "metadata": {},
   "outputs": [
    {
     "data": {
      "image/png": "[encoded data removed]",
      "text/plain": [
       "<Figure size 640x480 with 1 Axes>"
      ]
     },
     "metadata": {},
     "output_type": "display_data"
    }
   ],
   "source": [
    "bus_accidents = accident[accident['Vehicle_Type'].str.contains('Bus', na=False)]\n",
    "\n",
    "plt.scatter(bus_accidents['Number_of_Vehicles'], bus_accidents['Number_of_Casualties'], alpha=0.3, s=20, color='purple')\n",
    "plt.title('Bus Accidents: Vehicles vs Casualties')\n",
    "plt.xlabel('Vehicles Involved')\n",
    "plt.ylabel('Casualties')\n",
    "plt.show()\n"
   ]
  },
  {
   "cell_type": "markdown",
   "id": "d89e1abb-ce12-4511-8792-adf58ebdd7ea",
   "metadata": {},
   "source": [
    "<span style=\"color:red;\"><b>INSIGHTS:</b></span>  For <b>bus accidents</b>, more vehicles usually mean <b>more casualties</b>. The scatter plot shows a clear <b>upward trend</b>. When a bus is involved in a crash with more vehicles, the number of casualties tends to be higher. This indicates that <b>multi-vehicle collisions</b> are generally more severe.\n",
    "<hr>"
   ]
  },
  {
   "cell_type": "markdown",
   "id": "84f10c10-8cf9-412e-a543-452c6e5f48fc",
   "metadata": {},
   "source": [
    "<h2> Question 20 </h2>\n",
    "<h3> What are the most common weather conditions during accidents on roundabouts? </h3>"
   ]
  },
  {
   "cell_type": "code",
   "execution_count": 33,
   "id": "07f25495",
   "metadata": {},
   "outputs": [
    {
     "data": {
      "image/png": "[encoded data removed]",
      "text/plain": [
       "<Figure size 640x480 with 1 Axes>"
      ]
     },
     "metadata": {},
     "output_type": "display_data"
    }
   ],
   "source": [
    "roundabout_weather = accident[accident['Road_Type'] == 'Roundabout']['Weather_Conditions'].value_counts().head(8)\n",
    "\n",
    "plt.bar(roundabout_weather.index, roundabout_weather.values, color='lightblue')\n",
    "plt.title('Weather in Roundabout Accidents')\n",
    "plt.xlabel('Weather')\n",
    "plt.ylabel('Accidents')\n",
    "plt.xticks(rotation=90)\n",
    "plt.show()"
   ]
  },
  {
   "cell_type": "markdown",
   "id": "1d345dd0-26da-48ce-8f14-1f5327ddcf62",
   "metadata": {},
   "source": [
    "<span style=\"color:red;\"><b>INSIGHTS:</b></span> Most accidents on <b>roundabouts</b> occur in <b>fine weather</b> with no strong winds. The second most common condition is <b>rainy weather</b> without high winds. This tells us that <b>driver error</b> in normal conditions may be a bigger factor than bad weather.\n",
    "<hr>"
   ]
  },
  {
   "cell_type": "markdown",
   "id": "9b1157e2-9a97-4f6c-8550-4c007b19d34b",
   "metadata": {},
   "source": [
    "<h2> Question 21 </h2>\n",
    "<h3> Which light conditions are most often associated with fatal accidents? </h3>"
   ]
  },
  {
   "cell_type": "code",
   "execution_count": 34,
   "id": "8557870a",
   "metadata": {},
   "outputs": [
    {
     "data": {
      "image/png": "[encoded data removed]",
      "text/plain": [
       "<Figure size 640x480 with 1 Axes>"
      ]
     },
     "metadata": {},
     "output_type": "display_data"
    }
   ],
   "source": [
    "fatal_light = accident[accident['Accident_Severity'] == 'Fatal']['Light_Conditions'].value_counts().head(6)\n",
    "\n",
    "plt.bar(fatal_light.index, fatal_light.values, color='black')\n",
    "plt.title('Fatal Accidents by Light Condition')\n",
    "plt.xlabel('Light Condition')\n",
    "plt.ylabel('Fatal Accidents')\n",
    "plt.xticks(rotation=90)\n",
    "plt.show()"
   ]
  },
  {
   "cell_type": "markdown",
   "id": "45192bc0-b041-437f-ace9-de37e20f1201",
   "metadata": {},
   "source": [
    "<span style=\"color:red;\"><b>INSIGHTS:</b></span> Most <b>fatal accidents</b> happen in <b>daylight</b>. <b>Darkness with street lights</b> is also common, which means fatal crashes are <b>not just caused by poor visibility</b>.\n",
    "<hr>"
   ]
  },
  {
   "cell_type": "markdown",
   "id": "ed279ff1-5af3-4724-850e-aba6f90cd745",
   "metadata": {},
   "source": [
    "<h2> Question 22 </h2>\n",
    "<h3> Which districts have the highest ratio of serious accidents to slight accidents? </h3>"
   ]
  },
  {
   "cell_type": "code",
   "execution_count": 35,
   "id": "8e2d365d",
   "metadata": {},
   "outputs": [
    {
     "data": {
      "image/png": "[encoded data removed]",
      "text/plain": [
       "<Figure size 640x480 with 1 Axes>"
      ]
     },
     "metadata": {},
     "output_type": "display_data"
    }
   ],
   "source": [
    "counts = accident.groupby(['District Area', 'Accident_Severity']).size().unstack(fill_value=0)\n",
    "severity_ratio = ((counts['Serious'] + counts['Fatal']) / counts['Slight']).nlargest(15)\n",
    "\n",
    "plt.barh(severity_ratio.index, severity_ratio.values, color='darkred')\n",
    "plt.title('Top Districts: Serious+Fatal vs Slight Accidents')\n",
    "plt.xlabel('Ratio')\n",
    "plt.show()"
   ]
  },
  {
   "cell_type": "markdown",
   "id": "ff8b5a03-7c84-42b6-abd6-c3a75381a7b2",
   "metadata": {},
   "source": [
    "<span style=\"color:red;\"><b>INSIGHTS:</b></span> <b>Selly, Maldon, and Purbeck</b> have the <b>highest ratio</b> of serious to slight accidents. This means crashes there are <b>more likely to be severe</b>. These districts have <b>more dangerous roads</b>.\n",
    "<hr>"
   ]
  },
  {
   "cell_type": "markdown",
   "id": "62e3e492-7b70-4f3f-8403-a18c8e2d60ce",
   "metadata": {},
   "source": [
    "<h2> Question 23 </h2>\n",
    "<h3> What are the top 10 districts with the poorest reporting of road surface conditions? </h3>"
   ]
  },
  {
   "cell_type": "code",
   "execution_count": 36,
   "id": "f4d92519",
   "metadata": {},
   "outputs": [
    {
     "data": {
      "image/png": "[encoded data removed]",
      "text/plain": [
       "<Figure size 640x480 with 1 Axes>"
      ]
     },
     "metadata": {},
     "output_type": "display_data"
    }
   ],
   "source": [
    "outlier_districts = (\n",
    "    accident[accident['Road_Surface_Conditions'] == 'unaccounted']\n",
    "    .groupby('District Area')\n",
    "    .size()\n",
    "    / accident.groupby('District Area').size() * 100\n",
    ")\n",
    "\n",
    "top10 = outlier_districts.nlargest(10)\n",
    "\n",
    "plt.barh(top10.index, top10.values, color=\"grey\")\n",
    "plt.title('Top 10 Districts with Most \"Unaccounted\" Road Surface Data')\n",
    "plt.xlabel('Percentage (%)')\n",
    "plt.show()"
   ]
  },
  {
   "cell_type": "markdown",
   "id": "2c7d6bbe-7d2a-43a3-ac27-7dee82ad1fd0",
   "metadata": {},
   "source": [
    "<span style=\"color:red;\"><b>INSIGHTS:</b></span> <b>Lincoln</b> has the <b>worst reporting</b> for road surface data. <b>North Kesteven and Gedling</b> are also poor. These areas often list road conditions as <b>\"unaccounted.\"</b> This <b>missing data</b> makes safety analysis difficult there.\n",
    "<hr>"
   ]
  },
  {
   "cell_type": "markdown",
   "id": "42fdae8b-d057-4670-b6ab-5e36c47ae31a",
   "metadata": {},
   "source": [
    "<h2> Question 24 </h2>\n",
    "<h3> How many vehicles are usually involved in accidents on dual carriageways? </h3>"
   ]
  },
  {
   "cell_type": "code",
   "execution_count": 37,
   "id": "f8f04813",
   "metadata": {},
   "outputs": [
    {
     "data": {
      "image/png": "[encoded data removed]",
      "text/plain": [
       "<Figure size 640x480 with 1 Axes>"
      ]
     },
     "metadata": {},
     "output_type": "display_data"
    }
   ],
   "source": [
    "dual_accidents = accident[accident['Road_Type'] == 'Dual carriageway']\n",
    "\n",
    "plt.hist(dual_accidents['Number_of_Vehicles'], bins=7, color='red')\n",
    "plt.title('Vehicles in Dual Carriageway Accidents')\n",
    "plt.xlabel('Vehicles Involved')\n",
    "plt.ylabel('Count')\n",
    "plt.grid(True, alpha=0.3)\n",
    "plt.show()"
   ]
  },
  {
   "cell_type": "markdown",
   "id": "9d2fd067-81e9-4fe9-8c66-0206c5d92c66",
   "metadata": {},
   "source": [
    "<span style=\"color:red;\"><b>INSIGHTS:</b></span>  Most accidents on <b>dual carriageways</b> involve <b>2 vehicles</b>. This is by far the <b>most common</b> number. The next most common are <b>1-vehicle</b> and then <b>3-vehicle</b> accidents.\n",
    "<hr>"
   ]
  },
  {
   "cell_type": "markdown",
   "id": "5fa6df0d-4798-4134-8f75-caaca19dc3d3",
   "metadata": {},
   "source": [
    "<h2> Question 25 </h2>\n",
    "<h3> What is the distribution of the number of casualties in accidents that occur in darkness? </h3>"
   ]
  },
  {
   "cell_type": "code",
   "execution_count": 38,
   "id": "671a9361",
   "metadata": {},
   "outputs": [
    {
     "data": {
      "image/png": "[encoded data removed]",
      "text/plain": [
       "<Figure size 1000x600 with 1 Axes>"
      ]
     },
     "metadata": {},
     "output_type": "display_data"
    }
   ],
   "source": [
    "darkness_accidents = accident[accident['Light_Conditions'].str.startswith('Darkness', na=False)]\n",
    "plt.figure(figsize=(10, 6))\n",
    "plt.hist(darkness_accidents['Number_of_Casualties'], bins=20, color='midnightblue', edgecolor='white')\n",
    "plt.title('Distribution of Casualties in Nighttime Accidents')\n",
    "plt.xlabel('Number of Casualties')\n",
    "plt.ylabel('Frequency')\n",
    "plt.grid(True, alpha=0.3)\n",
    "plt.show()"
   ]
  },
  {
   "cell_type": "markdown",
   "id": "dc1f014a-6e4a-4876-8892-fd4754d69a0b",
   "metadata": {},
   "source": [
    "<span style=\"color:red;\"><b>INSIGHTS:</b></span> Most accidents in <b>darkness</b> have only <b>1 casualty</b>. The vast majority involve <b>very few people</b>. Severe crashes with <b>many casualties</b> at night are <b>rare</b>.\n",
    "<hr>"
   ]
  },
  {
   "cell_type": "markdown",
   "id": "f9c09340-e0b3-48de-9a0c-8a98a7975f99",
   "metadata": {},
   "source": [
    "<div style=\"font-family: Arial, sans-serif; font-size: 14px; color: #222; line-height: 1.6; margin-top: 40px; text-align: center;\">\n",
    "  <div style=\"margin-bottom: 15px;\">\n",
    "    <p style=\"margin: 5px 0; text-align: center;\"><strong>Data Analysis by:</strong> Jomel Tomeo</p>\n",
    "    <p style=\"margin: 5px 0; text-align: center;\"><strong>Institution/Organization:</strong> Dalubhasaan ng Lungsod ng Lucena</p>\n",
    "    <p style=\"margin: 5px 0; text-align: center;\"><strong>Date:</strong> September 04, 2025</p>\n",
    "  </div>\n",
    "\n",
    "  <div style=\"width: 50%; margin: 20px auto; border-top: 1px solid #aaa;\"></div>\n",
    "\n",
    "  <div style=\"font-size: 12px; color: #666; margin-top: 20px; max-width: 600px; margin-left: auto; margin-right: auto; text-align: center;\">\n",
    "    © 2025 All rights reserved. This analysis is prepared exclusively for academic and professional purposes. \n",
    "    No part of this work may be reproduced, distributed, or transmitted without prior permission.\n",
    "  </div>\n",
    "</div>\n"
   ]
  }
 ],
 "metadata": {
  "kernelspec": {
   "display_name": "Python 3 (ipykernel)",
   "language": "python",
   "name": "python3"
  },
  "language_info": {
   "codemirror_mode": {
    "name": "ipython",
    "version": 3
   },
   "file_extension": ".py",
   "mimetype": "text/x-python",
   "name": "python",
   "nbconvert_exporter": "python",
   "pygments_lexer": "ipython3",
   "version": "3.13.5"
  }
 },
 "nbformat": 4,
 "nbformat_minor": 5
}
